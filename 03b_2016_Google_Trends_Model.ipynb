{
 "cells": [
  {
   "cell_type": "markdown",
   "metadata": {},
   "source": [
    "# Import packages"
   ]
  },
  {
   "cell_type": "code",
   "execution_count": 1,
   "metadata": {},
   "outputs": [],
   "source": [
    "import pandas as pd\n",
    "import numpy as np\n",
    "import matplotlib.pyplot as plt\n",
    "import seaborn as sns\n",
    "\n",
    "from sklearn.linear_model import LogisticRegressionCV\n",
    "from sklearn.ensemble import RandomForestClassifier\n",
    "from sklearn.model_selection import train_test_split, GridSearchCV"
   ]
  },
  {
   "cell_type": "markdown",
   "metadata": {},
   "source": [
    "# Calculate Weighted Google Trends for 2016"
   ]
  },
  {
   "cell_type": "code",
   "execution_count": 2,
   "metadata": {},
   "outputs": [],
   "source": [
    "# Get recent Google Trends and create a column with the month of the results\n",
    "trends_dict = {}\n",
    "for i, j in enumerate(range(2, 13), start = 1):\n",
    "    month_df = pd.read_csv(f\"datasets/google_trends_2016/{i}x{j}_trends.csv\")\n",
    "    month_df[\"month\"] = i\n",
    "    trends_dict[f\"{i}x{j}_trends\"] = month_df"
   ]
  },
  {
   "cell_type": "code",
   "execution_count": 3,
   "metadata": {},
   "outputs": [],
   "source": [
    "# Concatenate the dataframes\n",
    "dict_list = [trends_dict[\"11x12_trends\"],\n",
    "             trends_dict[\"10x11_trends\"],\n",
    "             trends_dict[\"9x10_trends\"],\n",
    "             trends_dict[\"8x9_trends\"],\n",
    "             trends_dict[\"7x8_trends\"],\n",
    "             trends_dict[\"6x7_trends\"],\n",
    "             trends_dict[\"5x6_trends\"],\n",
    "             trends_dict[\"4x5_trends\"],\n",
    "             trends_dict[\"3x4_trends\"],\n",
    "             trends_dict[\"2x3_trends\"],\n",
    "             trends_dict[\"1x2_trends\"]]\n",
    "\n",
    "past_trends = pd.concat(dict_list)"
   ]
  },
  {
   "cell_type": "code",
   "execution_count": 4,
   "metadata": {},
   "outputs": [],
   "source": [
    "# Create a weight column for each corresponding month\n",
    "past_trends.loc[past_trends[\"month\"] == 11, \"weight\"] = .20\n",
    "past_trends.loc[past_trends[\"month\"] == 10, \"weight\"] = .15\n",
    "past_trends.loc[past_trends[\"month\"] == 9, \"weight\"] = .15\n",
    "past_trends.loc[past_trends[\"month\"] == 8, \"weight\"] = .10\n",
    "past_trends.loc[past_trends[\"month\"] == 7, \"weight\"] = .10\n",
    "past_trends.loc[past_trends[\"month\"] == 6, \"weight\"] = .05\n",
    "past_trends.loc[past_trends[\"month\"] == 5, \"weight\"] = .05\n",
    "past_trends.loc[past_trends[\"month\"] == 4, \"weight\"] = .05\n",
    "past_trends.loc[past_trends[\"month\"] == 3, \"weight\"] = .05\n",
    "past_trends.loc[past_trends[\"month\"] == 2, \"weight\"] = .05\n",
    "past_trends.loc[past_trends[\"month\"] == 1, \"weight\"] = .05"
   ]
  },
  {
   "cell_type": "code",
   "execution_count": 5,
   "metadata": {
    "scrolled": true
   },
   "outputs": [],
   "source": [
    "# Create weighted columns for eac search term\n",
    "past_trends[\"weighted_economy\"] = past_trends[\"economy\"] * past_trends[\"weight\"]\n",
    "past_trends[\"weighted_abortion\"] = past_trends[\"abortion\"] * past_trends[\"weight\"]\n",
    "past_trends[\"weighted_immigration\"] = past_trends[\"immigration\"] * past_trends[\"weight\"]\n",
    "past_trends[\"weighted_climate_change\"] = past_trends[\"climate change\"] * past_trends[\"weight\"]\n",
    "past_trends[\"weighted_health_care\"] = past_trends[\"health care\"] * past_trends[\"weight\"]"
   ]
  },
  {
   "cell_type": "code",
   "execution_count": 6,
   "metadata": {},
   "outputs": [],
   "source": [
    "# Drop the non-weighted columns from the DataFrame\n",
    "nw_cols = [\"economy\",\n",
    "           \"abortion\",\n",
    "           \"immigration\",\n",
    "           \"climate change\",\n",
    "           \"health care\",\n",
    "           \"month\",\n",
    "           \"weight\"]\n",
    "\n",
    "weighted_df = past_trends.groupby([\"geoName\"], as_index=False).agg(\"sum\").drop(nw_cols, axis = 1)"
   ]
  },
  {
   "cell_type": "code",
   "execution_count": 7,
   "metadata": {},
   "outputs": [],
   "source": [
    "# Set index as the state\n",
    "weighted_df = weighted_df.set_index(weighted_df[\"geoName\"])"
   ]
  },
  {
   "cell_type": "code",
   "execution_count": 8,
   "metadata": {},
   "outputs": [],
   "source": [
    "# Import voting record data\n",
    "vote_by_year = pd.read_csv(\"datasets/historic_voting.csv\", index_col = \"Unnamed: 0\")"
   ]
  },
  {
   "cell_type": "code",
   "execution_count": 9,
   "metadata": {},
   "outputs": [],
   "source": [
    "# Add a column for number of elections voted Democrat in the last 9 elections\n",
    "weighted_df[\"votes_dem\"] = [vote_by_year[i].sum() for i in vote_by_year.drop(\"year\", axis = 1)]"
   ]
  },
  {
   "cell_type": "code",
   "execution_count": 10,
   "metadata": {},
   "outputs": [],
   "source": [
    "# Create and assign a 1 to the label column if it will likely vote dem\n",
    "weighted_df[\"label\"] = 0\n",
    "weighted_df.loc[weighted_df[\"votes_dem\"] >= 4, \"label\"] = 1"
   ]
  },
  {
   "cell_type": "code",
   "execution_count": 11,
   "metadata": {},
   "outputs": [],
   "source": [
    "# Ensure that data are integers\n",
    "weighted_df = weighted_df.drop(columns = \"geoName\").astype(int)"
   ]
  },
  {
   "cell_type": "code",
   "execution_count": 12,
   "metadata": {},
   "outputs": [
    {
     "data": {
      "text/html": [
       "<div>\n",
       "<style scoped>\n",
       "    .dataframe tbody tr th:only-of-type {\n",
       "        vertical-align: middle;\n",
       "    }\n",
       "\n",
       "    .dataframe tbody tr th {\n",
       "        vertical-align: top;\n",
       "    }\n",
       "\n",
       "    .dataframe thead th {\n",
       "        text-align: right;\n",
       "    }\n",
       "</style>\n",
       "<table border=\"1\" class=\"dataframe\">\n",
       "  <thead>\n",
       "    <tr style=\"text-align: right;\">\n",
       "      <th></th>\n",
       "      <th>weighted_economy</th>\n",
       "      <th>weighted_abortion</th>\n",
       "      <th>weighted_immigration</th>\n",
       "      <th>weighted_climate_change</th>\n",
       "      <th>weighted_health_care</th>\n",
       "      <th>votes_dem</th>\n",
       "      <th>label</th>\n",
       "    </tr>\n",
       "    <tr>\n",
       "      <th>geoName</th>\n",
       "      <th></th>\n",
       "      <th></th>\n",
       "      <th></th>\n",
       "      <th></th>\n",
       "      <th></th>\n",
       "      <th></th>\n",
       "      <th></th>\n",
       "    </tr>\n",
       "  </thead>\n",
       "  <tbody>\n",
       "    <tr>\n",
       "      <td>Alabama</td>\n",
       "      <td>24</td>\n",
       "      <td>24</td>\n",
       "      <td>16</td>\n",
       "      <td>4</td>\n",
       "      <td>29</td>\n",
       "      <td>0</td>\n",
       "      <td>0</td>\n",
       "    </tr>\n",
       "    <tr>\n",
       "      <td>Alaska</td>\n",
       "      <td>26</td>\n",
       "      <td>20</td>\n",
       "      <td>16</td>\n",
       "      <td>9</td>\n",
       "      <td>26</td>\n",
       "      <td>0</td>\n",
       "      <td>0</td>\n",
       "    </tr>\n",
       "    <tr>\n",
       "      <td>Arizona</td>\n",
       "      <td>20</td>\n",
       "      <td>18</td>\n",
       "      <td>22</td>\n",
       "      <td>4</td>\n",
       "      <td>34</td>\n",
       "      <td>1</td>\n",
       "      <td>0</td>\n",
       "    </tr>\n",
       "    <tr>\n",
       "      <td>Arkansas</td>\n",
       "      <td>25</td>\n",
       "      <td>24</td>\n",
       "      <td>18</td>\n",
       "      <td>4</td>\n",
       "      <td>27</td>\n",
       "      <td>2</td>\n",
       "      <td>0</td>\n",
       "    </tr>\n",
       "    <tr>\n",
       "      <td>California</td>\n",
       "      <td>24</td>\n",
       "      <td>16</td>\n",
       "      <td>28</td>\n",
       "      <td>5</td>\n",
       "      <td>24</td>\n",
       "      <td>7</td>\n",
       "      <td>1</td>\n",
       "    </tr>\n",
       "  </tbody>\n",
       "</table>\n",
       "</div>"
      ],
      "text/plain": [
       "            weighted_economy  weighted_abortion  weighted_immigration  \\\n",
       "geoName                                                                 \n",
       "Alabama                   24                 24                    16   \n",
       "Alaska                    26                 20                    16   \n",
       "Arizona                   20                 18                    22   \n",
       "Arkansas                  25                 24                    18   \n",
       "California                24                 16                    28   \n",
       "\n",
       "            weighted_climate_change  weighted_health_care  votes_dem  label  \n",
       "geoName                                                                      \n",
       "Alabama                           4                    29          0      0  \n",
       "Alaska                            9                    26          0      0  \n",
       "Arizona                           4                    34          1      0  \n",
       "Arkansas                          4                    27          2      0  \n",
       "California                        5                    24          7      1  "
      ]
     },
     "execution_count": 12,
     "metadata": {},
     "output_type": "execute_result"
    }
   ],
   "source": [
    "weighted_df.head()"
   ]
  },
  {
   "cell_type": "markdown",
   "metadata": {},
   "source": [
    "## Model Building and Testing"
   ]
  },
  {
   "cell_type": "code",
   "execution_count": 13,
   "metadata": {},
   "outputs": [],
   "source": [
    "# Create and run a model with relative popularity data\n",
    "cols = [\"weighted_economy\",\n",
    "        \"weighted_abortion\",\n",
    "        \"weighted_immigration\",\n",
    "        \"weighted_climate_change\",\n",
    "        \"weighted_health_care\"]\n",
    "\n",
    "X = weighted_df[cols]\n",
    "y = weighted_df[\"label\"]\n",
    "\n",
    "X_train, X_test, y_train, y_test = train_test_split(X, y, random_state = 1776)"
   ]
  },
  {
   "cell_type": "code",
   "execution_count": 14,
   "metadata": {},
   "outputs": [
    {
     "name": "stdout",
     "output_type": "stream",
     "text": [
      "Model Training Score: 0.8157894736842105\n",
      "Model Testing Score:0.8461538461538461\n"
     ]
    }
   ],
   "source": [
    "# Fit and run a Logistic Regression model\n",
    "lr = LogisticRegressionCV(cv = 5, fit_intercept = False, random_state = 1776)\n",
    "lr.fit(X_train, y_train)\n",
    "\n",
    "print(f\"Model Training Score: {lr.score(X_train, y_train)}\")\n",
    "print(f\"Model Testing Score:{lr.score(X_test, y_test)}\")"
   ]
  },
  {
   "cell_type": "code",
   "execution_count": 15,
   "metadata": {},
   "outputs": [],
   "source": [
    "# GridSearch for hyperparameters of a LogisticRegressionCV model\n",
    "param_grid = {\n",
    "    \"max_iter\" : [100, 200, 300],\n",
    "    \"fit_intercept\" : [True, False]\n",
    "}\n",
    "\n",
    "lr_grid = GridSearchCV(LogisticRegressionCV(cv = 5, random_state = 1776),\n",
    "                       param_grid,\n",
    "                       cv = 5\n",
    ")"
   ]
  },
  {
   "cell_type": "code",
   "execution_count": 16,
   "metadata": {},
   "outputs": [
    {
     "name": "stdout",
     "output_type": "stream",
     "text": [
      "Model Training Score: 0.8157894736842105\n",
      "Model Testing Score:0.8461538461538461\n"
     ]
    },
    {
     "name": "stderr",
     "output_type": "stream",
     "text": [
      "/Users/grantwilson/anaconda3/envs/dsi/lib/python3.7/site-packages/sklearn/model_selection/_search.py:813: DeprecationWarning: The default of the `iid` parameter will change from True to False in version 0.22 and will be removed in 0.24. This will change numeric results when test-set sizes are unequal.\n",
      "  DeprecationWarning)\n"
     ]
    }
   ],
   "source": [
    "# Fit and keep the best model\n",
    "lr_grid.fit(X_train, y_train)\n",
    "lr_2 = lr_grid.best_estimator_\n",
    "\n",
    "print(f\"Model Training Score: {lr_2.score(X_train, y_train)}\")\n",
    "print(f\"Model Testing Score:{lr_2.score(X_test, y_test)}\")"
   ]
  },
  {
   "cell_type": "code",
   "execution_count": 18,
   "metadata": {},
   "outputs": [
    {
     "name": "stdout",
     "output_type": "stream",
     "text": [
      "Model Training Score: 1.0\n",
      "Model Testing Score:0.9230769230769231\n"
     ]
    }
   ],
   "source": [
    "# Instantiate and fit a basic RandomForestClassifier\n",
    "rf = RandomForestClassifier(n_estimators = 100, random_state=1776)\n",
    "rf.fit(X_train, y_train)\n",
    "\n",
    "print(f\"Model Training Score: {rf.score(X_train, y_train)}\")\n",
    "print(f\"Model Testing Score:{rf.score(X_test, y_test)}\")"
   ]
  },
  {
   "cell_type": "code",
   "execution_count": 19,
   "metadata": {},
   "outputs": [],
   "source": [
    "# GridSearch for hyperparameters of a RandomForestClassifier\n",
    "param_grid = {\n",
    "    \"n_estimators\" : [150, 250, 300, 350],\n",
    "    \"max_depth\" : [2, 3],\n",
    "    \"min_samples_split\" : [2, 3],\n",
    "    \"min_samples_leaf\" : [1, 2]\n",
    "}\n",
    "\n",
    "rf_grid = GridSearchCV(RandomForestClassifier(random_state = 1776),\n",
    "                       param_grid,\n",
    "                       cv = 5\n",
    ")"
   ]
  },
  {
   "cell_type": "code",
   "execution_count": 20,
   "metadata": {
    "scrolled": false
   },
   "outputs": [
    {
     "name": "stdout",
     "output_type": "stream",
     "text": [
      "Model Training Score: 0.8947368421052632\n",
      "Model Testing Score:0.9230769230769231\n"
     ]
    },
    {
     "name": "stderr",
     "output_type": "stream",
     "text": [
      "/Users/grantwilson/anaconda3/envs/dsi/lib/python3.7/site-packages/sklearn/model_selection/_search.py:813: DeprecationWarning: The default of the `iid` parameter will change from True to False in version 0.22 and will be removed in 0.24. This will change numeric results when test-set sizes are unequal.\n",
      "  DeprecationWarning)\n"
     ]
    }
   ],
   "source": [
    "# Fit and keep the best model\n",
    "rf_grid.fit(X_train, y_train)\n",
    "rf_2 = rf_grid.best_estimator_\n",
    "\n",
    "print(f\"Model Training Score: {rf_2.score(X_train, y_train)}\")\n",
    "print(f\"Model Testing Score:{rf_2.score(X_test, y_test)}\")"
   ]
  },
  {
   "cell_type": "code",
   "execution_count": 38,
   "metadata": {},
   "outputs": [
    {
     "data": {
      "text/plain": [
       "{'max_depth': 2,\n",
       " 'min_samples_leaf': 1,\n",
       " 'min_samples_split': 2,\n",
       " 'n_estimators': 300}"
      ]
     },
     "execution_count": 38,
     "metadata": {},
     "output_type": "execute_result"
    }
   ],
   "source": [
    "rf_grid.best_params_"
   ]
  },
  {
   "cell_type": "markdown",
   "metadata": {},
   "source": [
    "Will use these parameters for the model for the 2020 election."
   ]
  }
 ],
 "metadata": {
  "kernelspec": {
   "display_name": "Python 3",
   "language": "python",
   "name": "python3"
  },
  "language_info": {
   "codemirror_mode": {
    "name": "ipython",
    "version": 3
   },
   "file_extension": ".py",
   "mimetype": "text/x-python",
   "name": "python",
   "nbconvert_exporter": "python",
   "pygments_lexer": "ipython3",
   "version": "3.7.4"
  }
 },
 "nbformat": 4,
 "nbformat_minor": 2
}
