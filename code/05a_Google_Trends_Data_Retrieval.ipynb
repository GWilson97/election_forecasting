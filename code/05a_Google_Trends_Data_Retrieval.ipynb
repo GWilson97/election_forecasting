{
 "cells": [
  {
   "cell_type": "markdown",
   "metadata": {},
   "source": [
    "# Import Packages"
   ]
  },
  {
   "cell_type": "code",
   "execution_count": 1,
   "metadata": {},
   "outputs": [],
   "source": [
    "from pytrends.request import TrendReq\n",
    "import pandas as pd\n",
    "import numpy as np\n",
    "import matplotlib.pyplot as plt\n",
    "import time"
   ]
  },
  {
   "cell_type": "markdown",
   "metadata": {},
   "source": [
    "# Google Trends Query"
   ]
  },
  {
   "cell_type": "code",
   "execution_count": 2,
   "metadata": {},
   "outputs": [],
   "source": [
    "# Set the keywords to be queried from Google Trends\n",
    "kw_list = [\"economy\", \"abortion\", \"immigration\", \"climate change\", \"health care\"]"
   ]
  },
  {
   "cell_type": "code",
   "execution_count": 3,
   "metadata": {},
   "outputs": [],
   "source": [
    "def trends_dict(kw_list, n = 2, m = 13):\n",
    "    \"\"\"\n",
    "    Gets the Google Trends proportions for a keyword list.\n",
    "    Default timeframe is January-December with parameters for setting\n",
    "    the starting and ending months.\n",
    "    \n",
    "    Parameters:\n",
    "    -----------\n",
    "    kw_list : list of str, keyword search terms\n",
    "    n : int, starting month for terms + 1, defaults to 2 for January\n",
    "    m : int, ending month for terms + 1, defaults to 13 for December\n",
    "    \"\"\"\n",
    "    trend_dict = {}\n",
    "    for i, j in enumerate(range(n, m), start = 1):\n",
    "        # Create the Google Trends object\n",
    "        pytrends = TrendReq(hl='en-US')\n",
    "\n",
    "        # Build the payload for the trend query\n",
    "        pytrends.build_payload(kw_list,\n",
    "                               cat = 0,\n",
    "                               timeframe = f\"2019-{i}-01 2019-{j}-01\",\n",
    "                               geo = \"US\",\n",
    "                               gprop = \"\")\n",
    "\n",
    "        # Add the dictionary of trend proportions to a dictionary\n",
    "        trend_dict[f\"{i}x{j}_trends\"] = pytrends.interest_by_region(resolution = \"REGION\",\n",
    "                                                                    inc_low_vol = True,\n",
    "                                                                    inc_geo_code = False)\n",
    "        \n",
    "        time.sleep(60)\n",
    "    \n",
    "    return trend_dict"
   ]
  },
  {
   "cell_type": "code",
   "execution_count": 4,
   "metadata": {},
   "outputs": [],
   "source": [
    "# Save output of trends function\n",
    "trend_dict = trends_dict(kw_list)"
   ]
  },
  {
   "cell_type": "code",
   "execution_count": 5,
   "metadata": {},
   "outputs": [],
   "source": [
    "# Save recent trends to csv files\n",
    "for i in trend_dict.keys():\n",
    "    trend_dict[i].to_csv(f\"../datasets/google_trends/{i}.csv\")"
   ]
  }
 ],
 "metadata": {
  "kernelspec": {
   "display_name": "Python 3",
   "language": "python",
   "name": "python3"
  },
  "language_info": {
   "codemirror_mode": {
    "name": "ipython",
    "version": 3
   },
   "file_extension": ".py",
   "mimetype": "text/x-python",
   "name": "python",
   "nbconvert_exporter": "python",
   "pygments_lexer": "ipython3",
   "version": "3.7.4"
  }
 },
 "nbformat": 4,
 "nbformat_minor": 2
}
