{
 "cells": [
  {
   "cell_type": "markdown",
   "metadata": {},
   "source": [
    "# Import Packages"
   ]
  },
  {
   "cell_type": "code",
   "execution_count": 16,
   "metadata": {},
   "outputs": [
    {
     "name": "stdout",
     "output_type": "stream",
     "text": [
      "Requirement already satisfied: pytrends in /home/hobbes/anaconda3/lib/python3.7/site-packages (4.7.3)\n",
      "Requirement already satisfied: pandas>=0.25 in /home/hobbes/anaconda3/lib/python3.7/site-packages (from pytrends) (1.1.1)\n",
      "Requirement already satisfied: lxml in /home/hobbes/anaconda3/lib/python3.7/site-packages (from pytrends) (4.5.2)\n",
      "Requirement already satisfied: requests in /home/hobbes/anaconda3/lib/python3.7/site-packages (from pytrends) (2.24.0)\n",
      "Requirement already satisfied: python-dateutil>=2.7.3 in /home/hobbes/anaconda3/lib/python3.7/site-packages (from pandas>=0.25->pytrends) (2.8.1)\n",
      "Requirement already satisfied: pytz>=2017.2 in /home/hobbes/anaconda3/lib/python3.7/site-packages (from pandas>=0.25->pytrends) (2020.1)\n",
      "Requirement already satisfied: numpy>=1.15.4 in /home/hobbes/anaconda3/lib/python3.7/site-packages (from pandas>=0.25->pytrends) (1.19.1)\n",
      "Requirement already satisfied: chardet<4,>=3.0.2 in /home/hobbes/anaconda3/lib/python3.7/site-packages (from requests->pytrends) (3.0.4)\n",
      "Requirement already satisfied: urllib3!=1.25.0,!=1.25.1,<1.26,>=1.21.1 in /home/hobbes/anaconda3/lib/python3.7/site-packages (from requests->pytrends) (1.25.10)\n",
      "Requirement already satisfied: certifi>=2017.4.17 in /home/hobbes/anaconda3/lib/python3.7/site-packages (from requests->pytrends) (2020.6.20)\n",
      "Requirement already satisfied: idna<3,>=2.5 in /home/hobbes/anaconda3/lib/python3.7/site-packages (from requests->pytrends) (2.10)\n",
      "Requirement already satisfied: six>=1.5 in /home/hobbes/anaconda3/lib/python3.7/site-packages (from python-dateutil>=2.7.3->pandas>=0.25->pytrends) (1.15.0)\n"
     ]
    }
   ],
   "source": [
    "!pip install pytrends"
   ]
  },
  {
   "cell_type": "code",
   "execution_count": 17,
   "metadata": {},
   "outputs": [],
   "source": [
    "from pytrends.request import TrendReq\n",
    "import pandas as pd\n",
    "import numpy as np\n",
    "import matplotlib.pyplot as plt\n",
    "import time"
   ]
  },
  {
   "cell_type": "markdown",
   "metadata": {},
   "source": [
    "# Google Trends Query"
   ]
  },
  {
   "cell_type": "code",
   "execution_count": 18,
   "metadata": {},
   "outputs": [],
   "source": [
    "# Set the keywords to be queried from Google Trends\n",
    "kw_list = [\"economy\", \"abortion\", \"immigration\", \"Race\", \"health care\"]"
   ]
  },
  {
   "cell_type": "code",
   "execution_count": 19,
   "metadata": {},
   "outputs": [],
   "source": [
    "def trends_dict(kw_list, n = 2, m = 13):\n",
    "    \"\"\"\n",
    "    Gets the Google Trends proportions for a keyword list.\n",
    "    Default timeframe is January-December with parameters for setting\n",
    "    the starting and ending months.\n",
    "    \n",
    "    Parameters:\n",
    "    -----------\n",
    "    kw_list : list of str, keyword search terms\n",
    "    n : int, starting month for terms + 1, defaults to 2 for January\n",
    "    m : int, ending month for terms + 1, defaults to 13 for December\n",
    "    \"\"\"\n",
    "    trend_dict = {}\n",
    "    for i, j in enumerate(range(n, m), start = 1):\n",
    "        # Create the Google Trends object\n",
    "        pytrends = TrendReq(hl='en-US')\n",
    "\n",
    "        # Build the payload for the trend query\n",
    "        pytrends.build_payload(kw_list,\n",
    "                               cat = 0,\n",
    "                               timeframe = f\"2016-{i}-01 2016-{j}-01\",\n",
    "                               geo = \"US\",\n",
    "                               gprop = \"\")\n",
    "\n",
    "        # Add the dictionary of trend proportions to a dictionary\n",
    "        trend_dict[f\"{i}x{j}_trends\"] = pytrends.interest_by_region(resolution = \"REGION\",\n",
    "                                                                    inc_low_vol = True,\n",
    "                                                                    inc_geo_code = False)\n",
    "        \n",
    "        time.sleep(60)\n",
    "    \n",
    "    return trend_dict"
   ]
  },
  {
   "cell_type": "code",
   "execution_count": 20,
   "metadata": {},
   "outputs": [],
   "source": [
    "# Save output of trends function\n",
    "trend_dict = trends_dict(kw_list)"
   ]
  },
  {
   "cell_type": "code",
   "execution_count": 21,
   "metadata": {},
   "outputs": [],
   "source": [
    "# Save recent trends to csv files\n",
    "for i in trend_dict.keys():\n",
    "    trend_dict[i].to_csv(f\"datasets/google_trends_2016/{i}.csv\")"
   ]
  }
 ],
 "metadata": {
  "kernelspec": {
   "display_name": "Python 3",
   "language": "python",
   "name": "python3"
  },
  "language_info": {
   "codemirror_mode": {
    "name": "ipython",
    "version": 3
   },
   "file_extension": ".py",
   "mimetype": "text/x-python",
   "name": "python",
   "nbconvert_exporter": "python",
   "pygments_lexer": "ipython3",
   "version": "3.7.7"
  }
 },
 "nbformat": 4,
 "nbformat_minor": 2
}
